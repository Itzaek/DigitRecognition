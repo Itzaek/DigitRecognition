{
 "cells": [
  {
   "cell_type": "markdown",
   "metadata": {},
   "source": [
    "<b><font size = 18> Day1: January 24th </font></b>\n",
    "    \n",
    "Introduced the goal and purpose of the project. \n",
    "\n",
    "Project organized by the Carleton Artificial Intelligence Society.\n",
    "Technical Organizer: Chris\n",
    "Organizer: Hamza\n",
    "\n"
   ]
  }
 ],
 "metadata": {
  "kernelspec": {
   "display_name": "Python 3",
   "language": "python",
   "name": "python3"
  },
  "language_info": {
   "codemirror_mode": {
    "name": "ipython",
    "version": 3
   },
   "file_extension": ".py",
   "mimetype": "text/x-python",
   "name": "python",
   "nbconvert_exporter": "python",
   "pygments_lexer": "ipython3",
   "version": "3.7.0"
  }
 },
 "nbformat": 4,
 "nbformat_minor": 4
}
