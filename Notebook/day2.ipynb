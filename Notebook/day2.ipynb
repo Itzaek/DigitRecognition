{
 "cells": [
   {
   "cell_type": "markdown",
   "metadata": {},
   "source": [
    "# Day2: January 31st \n",
    "<br></br>\n",
    "\n",
    "\n",
    "<u>Introduction to tensorflow</u>\n",
    "<br></br>\n",
    "What is the MNIST data set?\n",
    "\n",
    "There are many different MNIST data sets, but in this project we will be using the MNIST data set of hand written digits. It's a training set of 60,000 hand written digits and a test set of 10,000 hand written digits. Image recognition is one of the basic forms of machine learning application and is similar to the 'Hello World' of mahine learning.\n",
    "\n",
    "Fig 1. Example of MNIST data of written digits\n",
    "\n",
    "![MNIST data set](http://neuralnetworksanddeeplearning.com/images/mnist_100_digits.png)\n",
    "\n"
   ]
  }
 ],
 "metadata": {
  "kernelspec": {
   "display_name": "Python 3",
   "language": "python",
   "name": "python3"
  },
  "language_info": {
   "codemirror_mode": {
    "name": "ipython",
    "version": 3
   },
   "file_extension": ".py",
   "mimetype": "text/x-python",
   "name": "python",
   "nbconvert_exporter": "python",
   "pygments_lexer": "ipython3",
   "version": "3.7.0"
  }
 },
 "nbformat": 4,
 "nbformat_minor": 4
}
